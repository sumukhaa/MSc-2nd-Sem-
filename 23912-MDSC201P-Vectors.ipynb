{
  "nbformat": 4,
  "nbformat_minor": 0,
  "metadata": {
    "colab": {
      "provenance": []
    },
    "kernelspec": {
      "name": "ir",
      "display_name": "R"
    },
    "language_info": {
      "name": "R"
    }
  },
  "cells": [
    {
      "cell_type": "code",
      "source": [
        "# Matrix Structure - m rows, n columns, mn entries having unique position\n",
        "A <- matrix(data = c(-3,2,893,0.17),nrow = 2, ncol = 2)\n",
        "A"
      ],
      "metadata": {
        "colab": {
          "base_uri": "https://localhost:8080/",
          "height": 114
        },
        "id": "QOUcQ6k6ybW7",
        "outputId": "93e6a4db-dfe3-4bdd-d225-6d3dcbc453e1"
      },
      "execution_count": 2,
      "outputs": [
        {
          "output_type": "display_data",
          "data": {
            "text/html": [
              "<table class=\"dataframe\">\n",
              "<caption>A matrix: 2 × 2 of type dbl</caption>\n",
              "<tbody>\n",
              "\t<tr><td>-3</td><td>893.00</td></tr>\n",
              "\t<tr><td> 2</td><td>  0.17</td></tr>\n",
              "</tbody>\n",
              "</table>\n"
            ],
            "text/markdown": "\nA matrix: 2 × 2 of type dbl\n\n| -3 | 893.00 |\n|  2 |   0.17 |\n\n",
            "text/latex": "A matrix: 2 × 2 of type dbl\n\\begin{tabular}{ll}\n\t -3 & 893.00\\\\\n\t  2 &   0.17\\\\\n\\end{tabular}\n",
            "text/plain": [
              "     [,1] [,2]  \n",
              "[1,] -3   893.00\n",
              "[2,]  2     0.17"
            ]
          },
          "metadata": {}
        }
      ]
    },
    {
      "cell_type": "code",
      "source": [
        "# Matrix Structure - data is arranged in column manner by default, without suplying nrow and ncol R returns a column matrix, arrangement of data could be controlled by \"byrow\" argument\n",
        "mat_col = matrix(data = c(1,2,3,4,5,6), nrow = 2, ncol = 3, byrow = FALSE)\n",
        "mat_col"
      ],
      "metadata": {
        "colab": {
          "base_uri": "https://localhost:8080/",
          "height": 132
        },
        "id": "AUbGQnyiyw7y",
        "outputId": "fbec960b-9308-41c9-d30d-03bdad88d7ca"
      },
      "execution_count": 3,
      "outputs": [
        {
          "output_type": "display_data",
          "data": {
            "text/html": [
              "<table class=\"dataframe\">\n",
              "<caption>A matrix: 2 × 3 of type dbl</caption>\n",
              "<tbody>\n",
              "\t<tr><td>1</td><td>3</td><td>5</td></tr>\n",
              "\t<tr><td>2</td><td>4</td><td>6</td></tr>\n",
              "</tbody>\n",
              "</table>\n"
            ],
            "text/markdown": "\nA matrix: 2 × 3 of type dbl\n\n| 1 | 3 | 5 |\n| 2 | 4 | 6 |\n\n",
            "text/latex": "A matrix: 2 × 3 of type dbl\n\\begin{tabular}{lll}\n\t 1 & 3 & 5\\\\\n\t 2 & 4 & 6\\\\\n\\end{tabular}\n",
            "text/plain": [
              "     [,1] [,2] [,3]\n",
              "[1,] 1    3    5   \n",
              "[2,] 2    4    6   "
            ]
          },
          "metadata": {}
        }
      ]
    },
    {
      "cell_type": "code",
      "source": [
        "mat_row = matrix(data = c(1,2,3,4,5,6), nrow = 2, ncol = 3, byrow = TRUE)\n",
        "mat_row"
      ],
      "metadata": {
        "colab": {
          "base_uri": "https://localhost:8080/",
          "height": 132
        },
        "id": "nFuQg4ouzJF_",
        "outputId": "ead9515c-4bcc-4b10-8b2e-1b6d7048dc33"
      },
      "execution_count": 4,
      "outputs": [
        {
          "output_type": "display_data",
          "data": {
            "text/html": [
              "<table class=\"dataframe\">\n",
              "<caption>A matrix: 2 × 3 of type dbl</caption>\n",
              "<tbody>\n",
              "\t<tr><td>1</td><td>2</td><td>3</td></tr>\n",
              "\t<tr><td>4</td><td>5</td><td>6</td></tr>\n",
              "</tbody>\n",
              "</table>\n"
            ],
            "text/markdown": "\nA matrix: 2 × 3 of type dbl\n\n| 1 | 2 | 3 |\n| 4 | 5 | 6 |\n\n",
            "text/latex": "A matrix: 2 × 3 of type dbl\n\\begin{tabular}{lll}\n\t 1 & 2 & 3\\\\\n\t 4 & 5 & 6\\\\\n\\end{tabular}\n",
            "text/plain": [
              "     [,1] [,2] [,3]\n",
              "[1,] 1    2    3   \n",
              "[2,] 4    5    6   "
            ]
          },
          "metadata": {}
        }
      ]
    },
    {
      "cell_type": "code",
      "source": [
        "# Multiple vectors could be arranged in array, rbind, cbind\n",
        "rbind(1:3,4:6)"
      ],
      "metadata": {
        "colab": {
          "base_uri": "https://localhost:8080/",
          "height": 132
        },
        "id": "LuHRfE4hzY-S",
        "outputId": "e55e4953-6a8e-44fc-b61a-03199813eeb7"
      },
      "execution_count": 5,
      "outputs": [
        {
          "output_type": "display_data",
          "data": {
            "text/html": [
              "<table class=\"dataframe\">\n",
              "<caption>A matrix: 2 × 3 of type int</caption>\n",
              "<tbody>\n",
              "\t<tr><td>1</td><td>2</td><td>3</td></tr>\n",
              "\t<tr><td>4</td><td>5</td><td>6</td></tr>\n",
              "</tbody>\n",
              "</table>\n"
            ],
            "text/markdown": "\nA matrix: 2 × 3 of type int\n\n| 1 | 2 | 3 |\n| 4 | 5 | 6 |\n\n",
            "text/latex": "A matrix: 2 × 3 of type int\n\\begin{tabular}{lll}\n\t 1 & 2 & 3\\\\\n\t 4 & 5 & 6\\\\\n\\end{tabular}\n",
            "text/plain": [
              "     [,1] [,2] [,3]\n",
              "[1,] 1    2    3   \n",
              "[2,] 4    5    6   "
            ]
          },
          "metadata": {}
        }
      ]
    },
    {
      "cell_type": "code",
      "source": [
        "cbind(c(1,4),c(2,5),c(3,6))"
      ],
      "metadata": {
        "colab": {
          "base_uri": "https://localhost:8080/",
          "height": 132
        },
        "id": "k1--B_Bdzxwm",
        "outputId": "5b94dc4a-edb8-4cf2-df26-7286d0a7be42"
      },
      "execution_count": 6,
      "outputs": [
        {
          "output_type": "display_data",
          "data": {
            "text/html": [
              "<table class=\"dataframe\">\n",
              "<caption>A matrix: 2 × 3 of type dbl</caption>\n",
              "<tbody>\n",
              "\t<tr><td>1</td><td>2</td><td>3</td></tr>\n",
              "\t<tr><td>4</td><td>5</td><td>6</td></tr>\n",
              "</tbody>\n",
              "</table>\n"
            ],
            "text/markdown": "\nA matrix: 2 × 3 of type dbl\n\n| 1 | 2 | 3 |\n| 4 | 5 | 6 |\n\n",
            "text/latex": "A matrix: 2 × 3 of type dbl\n\\begin{tabular}{lll}\n\t 1 & 2 & 3\\\\\n\t 4 & 5 & 6\\\\\n\\end{tabular}\n",
            "text/plain": [
              "     [,1] [,2] [,3]\n",
              "[1,] 1    2    3   \n",
              "[2,] 4    5    6   "
            ]
          },
          "metadata": {}
        }
      ]
    },
    {
      "cell_type": "code",
      "source": [
        "# \"dim\" gives the dimension of a matrix\n",
        "mymat <- rbind(c(1,3,4),5:3, c(100,20,90), 11:13)\n",
        "mymat"
      ],
      "metadata": {
        "colab": {
          "base_uri": "https://localhost:8080/",
          "height": 177
        },
        "id": "pVktqJcMz-P2",
        "outputId": "7bf5c417-1eb7-4bcc-da0f-3aded42a955e"
      },
      "execution_count": 7,
      "outputs": [
        {
          "output_type": "display_data",
          "data": {
            "text/html": [
              "<table class=\"dataframe\">\n",
              "<caption>A matrix: 4 × 3 of type dbl</caption>\n",
              "<tbody>\n",
              "\t<tr><td>  1</td><td> 3</td><td> 4</td></tr>\n",
              "\t<tr><td>  5</td><td> 4</td><td> 3</td></tr>\n",
              "\t<tr><td>100</td><td>20</td><td>90</td></tr>\n",
              "\t<tr><td> 11</td><td>12</td><td>13</td></tr>\n",
              "</tbody>\n",
              "</table>\n"
            ],
            "text/markdown": "\nA matrix: 4 × 3 of type dbl\n\n|   1 |  3 |  4 |\n|   5 |  4 |  3 |\n| 100 | 20 | 90 |\n|  11 | 12 | 13 |\n\n",
            "text/latex": "A matrix: 4 × 3 of type dbl\n\\begin{tabular}{lll}\n\t   1 &  3 &  4\\\\\n\t   5 &  4 &  3\\\\\n\t 100 & 20 & 90\\\\\n\t  11 & 12 & 13\\\\\n\\end{tabular}\n",
            "text/plain": [
              "     [,1] [,2] [,3]\n",
              "[1,]   1   3    4  \n",
              "[2,]   5   4    3  \n",
              "[3,] 100  20   90  \n",
              "[4,]  11  12   13  "
            ]
          },
          "metadata": {}
        }
      ]
    },
    {
      "cell_type": "code",
      "source": [
        "print(dim(mymat))\n",
        "print(nrow(mymat))\n",
        "print(ncol(mymat))\n",
        "print(dim(mymat)[2])"
      ],
      "metadata": {
        "colab": {
          "base_uri": "https://localhost:8080/"
        },
        "id": "Yn21hg415ygf",
        "outputId": "80ff423e-4cfd-4a1e-cac4-86275792139d"
      },
      "execution_count": 8,
      "outputs": [
        {
          "output_type": "stream",
          "name": "stdout",
          "text": [
            "[1] 4 3\n",
            "[1] 4\n",
            "[1] 3\n",
            "[1] 3\n"
          ]
        }
      ]
    },
    {
      "cell_type": "markdown",
      "source": [
        "###**Extracting Elements from a matrix**"
      ],
      "metadata": {
        "id": "kr6j9tv66KgB"
      }
    },
    {
      "cell_type": "code",
      "source": [
        "A <- matrix(c(0.3,4.5,55.3,91,0.1,105.5,-4.2,8.2,27.9), nrow = 3, ncol = 3)\n",
        "A"
      ],
      "metadata": {
        "colab": {
          "base_uri": "https://localhost:8080/",
          "height": 146
        },
        "id": "WW1zo6p50RKs",
        "outputId": "c03daa50-4166-4123-8e15-0fcc8bdda794"
      },
      "execution_count": 9,
      "outputs": [
        {
          "output_type": "display_data",
          "data": {
            "text/html": [
              "<table class=\"dataframe\">\n",
              "<caption>A matrix: 3 × 3 of type dbl</caption>\n",
              "<tbody>\n",
              "\t<tr><td> 0.3</td><td> 91.0</td><td>-4.2</td></tr>\n",
              "\t<tr><td> 4.5</td><td>  0.1</td><td> 8.2</td></tr>\n",
              "\t<tr><td>55.3</td><td>105.5</td><td>27.9</td></tr>\n",
              "</tbody>\n",
              "</table>\n"
            ],
            "text/markdown": "\nA matrix: 3 × 3 of type dbl\n\n|  0.3 |  91.0 | -4.2 |\n|  4.5 |   0.1 |  8.2 |\n| 55.3 | 105.5 | 27.9 |\n\n",
            "text/latex": "A matrix: 3 × 3 of type dbl\n\\begin{tabular}{lll}\n\t  0.3 &  91.0 & -4.2\\\\\n\t  4.5 &   0.1 &  8.2\\\\\n\t 55.3 & 105.5 & 27.9\\\\\n\\end{tabular}\n",
            "text/plain": [
              "     [,1] [,2]  [,3]\n",
              "[1,]  0.3  91.0 -4.2\n",
              "[2,]  4.5   0.1  8.2\n",
              "[3,] 55.3 105.5 27.9"
            ]
          },
          "metadata": {}
        }
      ]
    },
    {
      "cell_type": "code",
      "source": [
        "diag(x = A)"
      ],
      "metadata": {
        "colab": {
          "base_uri": "https://localhost:8080/",
          "height": 34
        },
        "id": "8lZ8KGW203FQ",
        "outputId": "30285f1c-bd2c-4a70-cde4-c7103ea7cebd"
      },
      "execution_count": 10,
      "outputs": [
        {
          "output_type": "display_data",
          "data": {
            "text/html": [
              "<style>\n",
              ".list-inline {list-style: none; margin:0; padding: 0}\n",
              ".list-inline>li {display: inline-block}\n",
              ".list-inline>li:not(:last-child)::after {content: \"\\00b7\"; padding: 0 .5ex}\n",
              "</style>\n",
              "<ol class=list-inline><li>0.3</li><li>0.1</li><li>27.9</li></ol>\n"
            ],
            "text/markdown": "1. 0.3\n2. 0.1\n3. 27.9\n\n\n",
            "text/latex": "\\begin{enumerate*}\n\\item 0.3\n\\item 0.1\n\\item 27.9\n\\end{enumerate*}\n",
            "text/plain": [
              "[1]  0.3  0.1 27.9"
            ]
          },
          "metadata": {}
        }
      ]
    },
    {
      "cell_type": "code",
      "source": [
        "A[3,2]"
      ],
      "metadata": {
        "colab": {
          "base_uri": "https://localhost:8080/",
          "height": 34
        },
        "id": "oAU58-1a1CLM",
        "outputId": "0d552e77-09fc-4d0b-9073-8925487c3272"
      },
      "execution_count": 11,
      "outputs": [
        {
          "output_type": "display_data",
          "data": {
            "text/html": [
              "105.5"
            ],
            "text/markdown": "105.5",
            "text/latex": "105.5",
            "text/plain": [
              "[1] 105.5"
            ]
          },
          "metadata": {}
        }
      ]
    },
    {
      "cell_type": "code",
      "source": [
        "A[,2]"
      ],
      "metadata": {
        "colab": {
          "base_uri": "https://localhost:8080/",
          "height": 34
        },
        "id": "YYXGU2-c1If7",
        "outputId": "98e67f12-6f3e-4c7a-855f-a008e0ba03fa"
      },
      "execution_count": 12,
      "outputs": [
        {
          "output_type": "display_data",
          "data": {
            "text/html": [
              "<style>\n",
              ".list-inline {list-style: none; margin:0; padding: 0}\n",
              ".list-inline>li {display: inline-block}\n",
              ".list-inline>li:not(:last-child)::after {content: \"\\00b7\"; padding: 0 .5ex}\n",
              "</style>\n",
              "<ol class=list-inline><li>91</li><li>0.1</li><li>105.5</li></ol>\n"
            ],
            "text/markdown": "1. 91\n2. 0.1\n3. 105.5\n\n\n",
            "text/latex": "\\begin{enumerate*}\n\\item 91\n\\item 0.1\n\\item 105.5\n\\end{enumerate*}\n",
            "text/plain": [
              "[1]  91.0   0.1 105.5"
            ]
          },
          "metadata": {}
        }
      ]
    },
    {
      "cell_type": "code",
      "source": [
        "A[2:3,]"
      ],
      "metadata": {
        "colab": {
          "base_uri": "https://localhost:8080/",
          "height": 114
        },
        "id": "chmFmYqz1M89",
        "outputId": "4662255d-95fe-493f-cea7-92131edfd451"
      },
      "execution_count": 13,
      "outputs": [
        {
          "output_type": "display_data",
          "data": {
            "text/html": [
              "<table class=\"dataframe\">\n",
              "<caption>A matrix: 2 × 3 of type dbl</caption>\n",
              "<tbody>\n",
              "\t<tr><td> 4.5</td><td>  0.1</td><td> 8.2</td></tr>\n",
              "\t<tr><td>55.3</td><td>105.5</td><td>27.9</td></tr>\n",
              "</tbody>\n",
              "</table>\n"
            ],
            "text/markdown": "\nA matrix: 2 × 3 of type dbl\n\n|  4.5 |   0.1 |  8.2 |\n| 55.3 | 105.5 | 27.9 |\n\n",
            "text/latex": "A matrix: 2 × 3 of type dbl\n\\begin{tabular}{lll}\n\t  4.5 &   0.1 &  8.2\\\\\n\t 55.3 & 105.5 & 27.9\\\\\n\\end{tabular}\n",
            "text/plain": [
              "     [,1] [,2]  [,3]\n",
              "[1,]  4.5   0.1  8.2\n",
              "[2,] 55.3 105.5 27.9"
            ]
          },
          "metadata": {}
        }
      ]
    },
    {
      "cell_type": "code",
      "source": [
        "A[,c(3,1)]"
      ],
      "metadata": {
        "colab": {
          "base_uri": "https://localhost:8080/",
          "height": 146
        },
        "id": "t0aPcvTd1ZBz",
        "outputId": "855f522e-d22e-44f4-f719-323ebd031eae"
      },
      "execution_count": 14,
      "outputs": [
        {
          "output_type": "display_data",
          "data": {
            "text/html": [
              "<table class=\"dataframe\">\n",
              "<caption>A matrix: 3 × 2 of type dbl</caption>\n",
              "<tbody>\n",
              "\t<tr><td>-4.2</td><td> 0.3</td></tr>\n",
              "\t<tr><td> 8.2</td><td> 4.5</td></tr>\n",
              "\t<tr><td>27.9</td><td>55.3</td></tr>\n",
              "</tbody>\n",
              "</table>\n"
            ],
            "text/markdown": "\nA matrix: 3 × 2 of type dbl\n\n| -4.2 |  0.3 |\n|  8.2 |  4.5 |\n| 27.9 | 55.3 |\n\n",
            "text/latex": "A matrix: 3 × 2 of type dbl\n\\begin{tabular}{ll}\n\t -4.2 &  0.3\\\\\n\t  8.2 &  4.5\\\\\n\t 27.9 & 55.3\\\\\n\\end{tabular}\n",
            "text/plain": [
              "     [,1] [,2]\n",
              "[1,] -4.2  0.3\n",
              "[2,]  8.2  4.5\n",
              "[3,] 27.9 55.3"
            ]
          },
          "metadata": {}
        }
      ]
    },
    {
      "cell_type": "code",
      "source": [
        "A[c(3,1),2:3]"
      ],
      "metadata": {
        "colab": {
          "base_uri": "https://localhost:8080/",
          "height": 114
        },
        "id": "sA2yxr131jHk",
        "outputId": "acf230dc-401a-4dcb-fd21-3d8227d74f9d"
      },
      "execution_count": 15,
      "outputs": [
        {
          "output_type": "display_data",
          "data": {
            "text/html": [
              "<table class=\"dataframe\">\n",
              "<caption>A matrix: 2 × 2 of type dbl</caption>\n",
              "<tbody>\n",
              "\t<tr><td>105.5</td><td>27.9</td></tr>\n",
              "\t<tr><td> 91.0</td><td>-4.2</td></tr>\n",
              "</tbody>\n",
              "</table>\n"
            ],
            "text/markdown": "\nA matrix: 2 × 2 of type dbl\n\n| 105.5 | 27.9 |\n|  91.0 | -4.2 |\n\n",
            "text/latex": "A matrix: 2 × 2 of type dbl\n\\begin{tabular}{ll}\n\t 105.5 & 27.9\\\\\n\t  91.0 & -4.2\\\\\n\\end{tabular}\n",
            "text/plain": [
              "     [,1]  [,2]\n",
              "[1,] 105.5 27.9\n",
              "[2,]  91.0 -4.2"
            ]
          },
          "metadata": {}
        }
      ]
    },
    {
      "cell_type": "markdown",
      "source": [
        "###**Manipulating Matrix**"
      ],
      "metadata": {
        "id": "4e3EpifF6SWD"
      }
    },
    {
      "cell_type": "code",
      "source": [
        "A"
      ],
      "metadata": {
        "colab": {
          "base_uri": "https://localhost:8080/",
          "height": 146
        },
        "id": "hkaPedgu1zMq",
        "outputId": "4e8f7a8e-4f49-4b12-93e7-e50d3472bb25"
      },
      "execution_count": 16,
      "outputs": [
        {
          "output_type": "display_data",
          "data": {
            "text/html": [
              "<table class=\"dataframe\">\n",
              "<caption>A matrix: 3 × 3 of type dbl</caption>\n",
              "<tbody>\n",
              "\t<tr><td> 0.3</td><td> 91.0</td><td>-4.2</td></tr>\n",
              "\t<tr><td> 4.5</td><td>  0.1</td><td> 8.2</td></tr>\n",
              "\t<tr><td>55.3</td><td>105.5</td><td>27.9</td></tr>\n",
              "</tbody>\n",
              "</table>\n"
            ],
            "text/markdown": "\nA matrix: 3 × 3 of type dbl\n\n|  0.3 |  91.0 | -4.2 |\n|  4.5 |   0.1 |  8.2 |\n| 55.3 | 105.5 | 27.9 |\n\n",
            "text/latex": "A matrix: 3 × 3 of type dbl\n\\begin{tabular}{lll}\n\t  0.3 &  91.0 & -4.2\\\\\n\t  4.5 &   0.1 &  8.2\\\\\n\t 55.3 & 105.5 & 27.9\\\\\n\\end{tabular}\n",
            "text/plain": [
              "     [,1] [,2]  [,3]\n",
              "[1,]  0.3  91.0 -4.2\n",
              "[2,]  4.5   0.1  8.2\n",
              "[3,] 55.3 105.5 27.9"
            ]
          },
          "metadata": {}
        }
      ]
    },
    {
      "cell_type": "code",
      "source": [
        "A[,-2]"
      ],
      "metadata": {
        "colab": {
          "base_uri": "https://localhost:8080/",
          "height": 146
        },
        "id": "LzmGPchT15j-",
        "outputId": "b62d81eb-4fe6-4a35-f65d-b55c54ccb1df"
      },
      "execution_count": 17,
      "outputs": [
        {
          "output_type": "display_data",
          "data": {
            "text/html": [
              "<table class=\"dataframe\">\n",
              "<caption>A matrix: 3 × 2 of type dbl</caption>\n",
              "<tbody>\n",
              "\t<tr><td> 0.3</td><td>-4.2</td></tr>\n",
              "\t<tr><td> 4.5</td><td> 8.2</td></tr>\n",
              "\t<tr><td>55.3</td><td>27.9</td></tr>\n",
              "</tbody>\n",
              "</table>\n"
            ],
            "text/markdown": "\nA matrix: 3 × 2 of type dbl\n\n|  0.3 | -4.2 |\n|  4.5 |  8.2 |\n| 55.3 | 27.9 |\n\n",
            "text/latex": "A matrix: 3 × 2 of type dbl\n\\begin{tabular}{ll}\n\t  0.3 & -4.2\\\\\n\t  4.5 &  8.2\\\\\n\t 55.3 & 27.9\\\\\n\\end{tabular}\n",
            "text/plain": [
              "     [,1] [,2]\n",
              "[1,]  0.3 -4.2\n",
              "[2,]  4.5  8.2\n",
              "[3,] 55.3 27.9"
            ]
          },
          "metadata": {}
        }
      ]
    },
    {
      "cell_type": "code",
      "source": [
        "A[-1,3:2]"
      ],
      "metadata": {
        "colab": {
          "base_uri": "https://localhost:8080/",
          "height": 114
        },
        "id": "w_j3VJ5H2EZN",
        "outputId": "34bfc44a-baa0-4698-a704-1ae08454d852"
      },
      "execution_count": 18,
      "outputs": [
        {
          "output_type": "display_data",
          "data": {
            "text/html": [
              "<table class=\"dataframe\">\n",
              "<caption>A matrix: 2 × 2 of type dbl</caption>\n",
              "<tbody>\n",
              "\t<tr><td> 8.2</td><td>  0.1</td></tr>\n",
              "\t<tr><td>27.9</td><td>105.5</td></tr>\n",
              "</tbody>\n",
              "</table>\n"
            ],
            "text/markdown": "\nA matrix: 2 × 2 of type dbl\n\n|  8.2 |   0.1 |\n| 27.9 | 105.5 |\n\n",
            "text/latex": "A matrix: 2 × 2 of type dbl\n\\begin{tabular}{ll}\n\t  8.2 &   0.1\\\\\n\t 27.9 & 105.5\\\\\n\\end{tabular}\n",
            "text/plain": [
              "     [,1] [,2] \n",
              "[1,]  8.2   0.1\n",
              "[2,] 27.9 105.5"
            ]
          },
          "metadata": {}
        }
      ]
    },
    {
      "cell_type": "code",
      "source": [
        "A[-1,-2]"
      ],
      "metadata": {
        "colab": {
          "base_uri": "https://localhost:8080/",
          "height": 114
        },
        "id": "_itohb_22RcT",
        "outputId": "18b4c86c-6ca5-47e5-a8a2-e0755da45c5a"
      },
      "execution_count": 19,
      "outputs": [
        {
          "output_type": "display_data",
          "data": {
            "text/html": [
              "<table class=\"dataframe\">\n",
              "<caption>A matrix: 2 × 2 of type dbl</caption>\n",
              "<tbody>\n",
              "\t<tr><td> 4.5</td><td> 8.2</td></tr>\n",
              "\t<tr><td>55.3</td><td>27.9</td></tr>\n",
              "</tbody>\n",
              "</table>\n"
            ],
            "text/markdown": "\nA matrix: 2 × 2 of type dbl\n\n|  4.5 |  8.2 |\n| 55.3 | 27.9 |\n\n",
            "text/latex": "A matrix: 2 × 2 of type dbl\n\\begin{tabular}{ll}\n\t  4.5 &  8.2\\\\\n\t 55.3 & 27.9\\\\\n\\end{tabular}\n",
            "text/plain": [
              "     [,1] [,2]\n",
              "[1,]  4.5  8.2\n",
              "[2,] 55.3 27.9"
            ]
          },
          "metadata": {}
        }
      ]
    },
    {
      "cell_type": "code",
      "source": [
        "A[-1,-c(2,3)]"
      ],
      "metadata": {
        "colab": {
          "base_uri": "https://localhost:8080/",
          "height": 34
        },
        "id": "6Ir3Big42XPd",
        "outputId": "2d43d20d-913e-46be-c2c5-9242a9de0fd8"
      },
      "execution_count": 20,
      "outputs": [
        {
          "output_type": "display_data",
          "data": {
            "text/html": [
              "<style>\n",
              ".list-inline {list-style: none; margin:0; padding: 0}\n",
              ".list-inline>li {display: inline-block}\n",
              ".list-inline>li:not(:last-child)::after {content: \"\\00b7\"; padding: 0 .5ex}\n",
              "</style>\n",
              "<ol class=list-inline><li>4.5</li><li>55.3</li></ol>\n"
            ],
            "text/markdown": "1. 4.5\n2. 55.3\n\n\n",
            "text/latex": "\\begin{enumerate*}\n\\item 4.5\n\\item 55.3\n\\end{enumerate*}\n",
            "text/plain": [
              "[1]  4.5 55.3"
            ]
          },
          "metadata": {}
        }
      ]
    },
    {
      "cell_type": "code",
      "source": [
        "B <- A\n",
        "B"
      ],
      "metadata": {
        "colab": {
          "base_uri": "https://localhost:8080/",
          "height": 146
        },
        "id": "f18MDNtX2iIE",
        "outputId": "0485c54c-57cd-4301-ada7-6f2efd1cddad"
      },
      "execution_count": 21,
      "outputs": [
        {
          "output_type": "display_data",
          "data": {
            "text/html": [
              "<table class=\"dataframe\">\n",
              "<caption>A matrix: 3 × 3 of type dbl</caption>\n",
              "<tbody>\n",
              "\t<tr><td> 0.3</td><td> 91.0</td><td>-4.2</td></tr>\n",
              "\t<tr><td> 4.5</td><td>  0.1</td><td> 8.2</td></tr>\n",
              "\t<tr><td>55.3</td><td>105.5</td><td>27.9</td></tr>\n",
              "</tbody>\n",
              "</table>\n"
            ],
            "text/markdown": "\nA matrix: 3 × 3 of type dbl\n\n|  0.3 |  91.0 | -4.2 |\n|  4.5 |   0.1 |  8.2 |\n| 55.3 | 105.5 | 27.9 |\n\n",
            "text/latex": "A matrix: 3 × 3 of type dbl\n\\begin{tabular}{lll}\n\t  0.3 &  91.0 & -4.2\\\\\n\t  4.5 &   0.1 &  8.2\\\\\n\t 55.3 & 105.5 & 27.9\\\\\n\\end{tabular}\n",
            "text/plain": [
              "     [,1] [,2]  [,3]\n",
              "[1,]  0.3  91.0 -4.2\n",
              "[2,]  4.5   0.1  8.2\n",
              "[3,] 55.3 105.5 27.9"
            ]
          },
          "metadata": {}
        }
      ]
    },
    {
      "cell_type": "code",
      "source": [
        "B[2,] <- 1:3\n",
        "B"
      ],
      "metadata": {
        "colab": {
          "base_uri": "https://localhost:8080/",
          "height": 146
        },
        "id": "bVn9zA2l2sC9",
        "outputId": "92e56f16-977f-4e2b-e7ea-ebd1c5d9a0bf"
      },
      "execution_count": 22,
      "outputs": [
        {
          "output_type": "display_data",
          "data": {
            "text/html": [
              "<table class=\"dataframe\">\n",
              "<caption>A matrix: 3 × 3 of type dbl</caption>\n",
              "<tbody>\n",
              "\t<tr><td> 0.3</td><td> 91.0</td><td>-4.2</td></tr>\n",
              "\t<tr><td> 1.0</td><td>  2.0</td><td> 3.0</td></tr>\n",
              "\t<tr><td>55.3</td><td>105.5</td><td>27.9</td></tr>\n",
              "</tbody>\n",
              "</table>\n"
            ],
            "text/markdown": "\nA matrix: 3 × 3 of type dbl\n\n|  0.3 |  91.0 | -4.2 |\n|  1.0 |   2.0 |  3.0 |\n| 55.3 | 105.5 | 27.9 |\n\n",
            "text/latex": "A matrix: 3 × 3 of type dbl\n\\begin{tabular}{lll}\n\t  0.3 &  91.0 & -4.2\\\\\n\t  1.0 &   2.0 &  3.0\\\\\n\t 55.3 & 105.5 & 27.9\\\\\n\\end{tabular}\n",
            "text/plain": [
              "     [,1] [,2]  [,3]\n",
              "[1,]  0.3  91.0 -4.2\n",
              "[2,]  1.0   2.0  3.0\n",
              "[3,] 55.3 105.5 27.9"
            ]
          },
          "metadata": {}
        }
      ]
    },
    {
      "cell_type": "code",
      "source": [
        "B[c(1,3),2] <- 900\n",
        "B"
      ],
      "metadata": {
        "colab": {
          "base_uri": "https://localhost:8080/",
          "height": 146
        },
        "id": "OSZJihao235j",
        "outputId": "8e1d6e94-175b-4ae4-b806-efc019acd9d9"
      },
      "execution_count": 23,
      "outputs": [
        {
          "output_type": "display_data",
          "data": {
            "text/html": [
              "<table class=\"dataframe\">\n",
              "<caption>A matrix: 3 × 3 of type dbl</caption>\n",
              "<tbody>\n",
              "\t<tr><td> 0.3</td><td>900</td><td>-4.2</td></tr>\n",
              "\t<tr><td> 1.0</td><td>  2</td><td> 3.0</td></tr>\n",
              "\t<tr><td>55.3</td><td>900</td><td>27.9</td></tr>\n",
              "</tbody>\n",
              "</table>\n"
            ],
            "text/markdown": "\nA matrix: 3 × 3 of type dbl\n\n|  0.3 | 900 | -4.2 |\n|  1.0 |   2 |  3.0 |\n| 55.3 | 900 | 27.9 |\n\n",
            "text/latex": "A matrix: 3 × 3 of type dbl\n\\begin{tabular}{lll}\n\t  0.3 & 900 & -4.2\\\\\n\t  1.0 &   2 &  3.0\\\\\n\t 55.3 & 900 & 27.9\\\\\n\\end{tabular}\n",
            "text/plain": [
              "     [,1] [,2] [,3]\n",
              "[1,]  0.3 900  -4.2\n",
              "[2,]  1.0   2   3.0\n",
              "[3,] 55.3 900  27.9"
            ]
          },
          "metadata": {}
        }
      ]
    },
    {
      "cell_type": "code",
      "source": [
        "B[,3] <- B[3,]"
      ],
      "metadata": {
        "id": "jyi16rCH3Ikz"
      },
      "execution_count": 24,
      "outputs": []
    },
    {
      "cell_type": "code",
      "source": [
        "A"
      ],
      "metadata": {
        "colab": {
          "base_uri": "https://localhost:8080/",
          "height": 146
        },
        "id": "iYRA0bfO3eEE",
        "outputId": "825072e9-0d62-48c6-a866-a450362ec3ff"
      },
      "execution_count": 25,
      "outputs": [
        {
          "output_type": "display_data",
          "data": {
            "text/html": [
              "<table class=\"dataframe\">\n",
              "<caption>A matrix: 3 × 3 of type dbl</caption>\n",
              "<tbody>\n",
              "\t<tr><td> 0.3</td><td> 91.0</td><td>-4.2</td></tr>\n",
              "\t<tr><td> 4.5</td><td>  0.1</td><td> 8.2</td></tr>\n",
              "\t<tr><td>55.3</td><td>105.5</td><td>27.9</td></tr>\n",
              "</tbody>\n",
              "</table>\n"
            ],
            "text/markdown": "\nA matrix: 3 × 3 of type dbl\n\n|  0.3 |  91.0 | -4.2 |\n|  4.5 |   0.1 |  8.2 |\n| 55.3 | 105.5 | 27.9 |\n\n",
            "text/latex": "A matrix: 3 × 3 of type dbl\n\\begin{tabular}{lll}\n\t  0.3 &  91.0 & -4.2\\\\\n\t  4.5 &   0.1 &  8.2\\\\\n\t 55.3 & 105.5 & 27.9\\\\\n\\end{tabular}\n",
            "text/plain": [
              "     [,1] [,2]  [,3]\n",
              "[1,]  0.3  91.0 -4.2\n",
              "[2,]  4.5   0.1  8.2\n",
              "[3,] 55.3 105.5 27.9"
            ]
          },
          "metadata": {}
        }
      ]
    },
    {
      "cell_type": "code",
      "source": [
        "B[c(1,3),2:1] <- c(65,-65,88,-88)\n",
        "B"
      ],
      "metadata": {
        "colab": {
          "base_uri": "https://localhost:8080/",
          "height": 146
        },
        "id": "LydmsJkO3t9s",
        "outputId": "6e6586c4-572f-4a34-d89a-f9d2c544cc35"
      },
      "execution_count": 26,
      "outputs": [
        {
          "output_type": "display_data",
          "data": {
            "text/html": [
              "<table class=\"dataframe\">\n",
              "<caption>A matrix: 3 × 3 of type dbl</caption>\n",
              "<tbody>\n",
              "\t<tr><td> 88</td><td> 65</td><td> 55.3</td></tr>\n",
              "\t<tr><td>  1</td><td>  2</td><td>900.0</td></tr>\n",
              "\t<tr><td>-88</td><td>-65</td><td> 27.9</td></tr>\n",
              "</tbody>\n",
              "</table>\n"
            ],
            "text/markdown": "\nA matrix: 3 × 3 of type dbl\n\n|  88 |  65 |  55.3 |\n|   1 |   2 | 900.0 |\n| -88 | -65 |  27.9 |\n\n",
            "text/latex": "A matrix: 3 × 3 of type dbl\n\\begin{tabular}{lll}\n\t  88 &  65 &  55.3\\\\\n\t   1 &   2 & 900.0\\\\\n\t -88 & -65 &  27.9\\\\\n\\end{tabular}\n",
            "text/plain": [
              "     [,1] [,2] [,3] \n",
              "[1,]  88   65   55.3\n",
              "[2,]   1    2  900.0\n",
              "[3,] -88  -65   27.9"
            ]
          },
          "metadata": {}
        }
      ]
    },
    {
      "cell_type": "code",
      "source": [
        "B[c(1,3),c(1,3)] <- c(-7,7)\n",
        "B"
      ],
      "metadata": {
        "colab": {
          "base_uri": "https://localhost:8080/",
          "height": 146
        },
        "id": "-fD-itnd4Esf",
        "outputId": "4cf0fdb5-0336-4c28-8f72-8131b87802ad"
      },
      "execution_count": 27,
      "outputs": [
        {
          "output_type": "display_data",
          "data": {
            "text/html": [
              "<table class=\"dataframe\">\n",
              "<caption>A matrix: 3 × 3 of type dbl</caption>\n",
              "<tbody>\n",
              "\t<tr><td>-7</td><td> 65</td><td> -7</td></tr>\n",
              "\t<tr><td> 1</td><td>  2</td><td>900</td></tr>\n",
              "\t<tr><td> 7</td><td>-65</td><td>  7</td></tr>\n",
              "</tbody>\n",
              "</table>\n"
            ],
            "text/markdown": "\nA matrix: 3 × 3 of type dbl\n\n| -7 |  65 |  -7 |\n|  1 |   2 | 900 |\n|  7 | -65 |   7 |\n\n",
            "text/latex": "A matrix: 3 × 3 of type dbl\n\\begin{tabular}{lll}\n\t -7 &  65 &  -7\\\\\n\t  1 &   2 & 900\\\\\n\t  7 & -65 &   7\\\\\n\\end{tabular}\n",
            "text/plain": [
              "     [,1] [,2] [,3]\n",
              "[1,] -7    65   -7 \n",
              "[2,]  1     2  900 \n",
              "[3,]  7   -65    7 "
            ]
          },
          "metadata": {}
        }
      ]
    },
    {
      "cell_type": "code",
      "source": [
        "diag(x = B) <- rep(x = 0, times = 3)\n",
        "B"
      ],
      "metadata": {
        "colab": {
          "base_uri": "https://localhost:8080/",
          "height": 146
        },
        "id": "uvj5NP4-4O9U",
        "outputId": "d63daaed-0134-4d9b-87ef-86a0125e9902"
      },
      "execution_count": 28,
      "outputs": [
        {
          "output_type": "display_data",
          "data": {
            "text/html": [
              "<table class=\"dataframe\">\n",
              "<caption>A matrix: 3 × 3 of type dbl</caption>\n",
              "<tbody>\n",
              "\t<tr><td>0</td><td> 65</td><td> -7</td></tr>\n",
              "\t<tr><td>1</td><td>  0</td><td>900</td></tr>\n",
              "\t<tr><td>7</td><td>-65</td><td>  0</td></tr>\n",
              "</tbody>\n",
              "</table>\n"
            ],
            "text/markdown": "\nA matrix: 3 × 3 of type dbl\n\n| 0 |  65 |  -7 |\n| 1 |   0 | 900 |\n| 7 | -65 |   0 |\n\n",
            "text/latex": "A matrix: 3 × 3 of type dbl\n\\begin{tabular}{lll}\n\t 0 &  65 &  -7\\\\\n\t 1 &   0 & 900\\\\\n\t 7 & -65 &   0\\\\\n\\end{tabular}\n",
            "text/plain": [
              "     [,1] [,2] [,3]\n",
              "[1,] 0     65   -7 \n",
              "[2,] 1      0  900 \n",
              "[3,] 7    -65    0 "
            ]
          },
          "metadata": {}
        }
      ]
    },
    {
      "cell_type": "code",
      "source": [
        "# Create a vector\n",
        "my_vector <- c(1, 2, 3, 4, 5)\n",
        "\n",
        "# Print the vector\n",
        "print(my_vector)\n",
        "\n",
        "# Calculate the mean of the vector\n",
        "mean_value <- mean(my_vector)\n",
        "print(mean_value)"
      ],
      "metadata": {
        "colab": {
          "base_uri": "https://localhost:8080/"
        },
        "id": "9Qc59jJAtS6p",
        "outputId": "ac94c080-ac5c-474b-ace6-23c1a9cf6a6b"
      },
      "execution_count": 29,
      "outputs": [
        {
          "output_type": "stream",
          "name": "stdout",
          "text": [
            "[1] 1 2 3 4 5\n",
            "[1] 3\n"
          ]
        }
      ]
    }
  ]
}